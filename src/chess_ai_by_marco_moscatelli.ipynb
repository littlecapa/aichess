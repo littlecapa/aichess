{
 "cells": [
  {
   "cell_type": "markdown",
   "id": "94f20026",
   "metadata": {},
   "source": [
    "# Chess AI with PyTorch\n",
    "\n",
    "By Marco Moscatelli"
   ]
  },
  {
   "cell_type": "markdown",
   "id": "f624bd84",
   "metadata": {},
   "source": [
    "## Getting the data"
   ]
  },
  {
   "cell_type": "markdown",
   "id": "7141303d",
   "metadata": {},
   "source": [
    "### Installing the dependencies"
   ]
  },
  {
   "cell_type": "code",
   "execution_count": 1,
   "id": "177e29b9",
   "metadata": {},
   "outputs": [
    {
     "name": "stdout",
     "output_type": "stream",
     "text": [
      "Requirement already satisfied: python-chess in d:\\users\\marco\\anaconda3\\lib\\site-packages (1.999)\n",
      "Requirement already satisfied: chess<2,>=1 in d:\\users\\marco\\anaconda3\\lib\\site-packages (from python-chess) (1.9.4)\n",
      "Requirement already satisfied: zstandard in d:\\users\\marco\\anaconda3\\lib\\site-packages (0.20.0)\n",
      "Requirement already satisfied: py-cpuinfo in d:\\users\\marco\\anaconda3\\lib\\site-packages (9.0.0)\n",
      "Requirement already satisfied: torch in d:\\users\\marco\\anaconda3\\lib\\site-packages (2.0.0)\n",
      "Requirement already satisfied: typing-extensions in d:\\users\\marco\\anaconda3\\lib\\site-packages (from torch) (4.1.1)\n",
      "Requirement already satisfied: networkx in d:\\users\\marco\\anaconda3\\lib\\site-packages (from torch) (2.7.1)\n",
      "Requirement already satisfied: filelock in d:\\users\\marco\\anaconda3\\lib\\site-packages (from torch) (3.6.0)\n",
      "Requirement already satisfied: jinja2 in d:\\users\\marco\\anaconda3\\lib\\site-packages (from torch) (2.11.3)\n",
      "Requirement already satisfied: sympy in d:\\users\\marco\\anaconda3\\lib\\site-packages (from torch) (1.10.1)\n",
      "Requirement already satisfied: MarkupSafe>=0.23 in d:\\users\\marco\\anaconda3\\lib\\site-packages (from jinja2->torch) (2.0.1)\n",
      "Requirement already satisfied: mpmath>=0.19 in d:\\users\\marco\\anaconda3\\lib\\site-packages (from sympy->torch) (1.2.1)\n",
      "Requirement already satisfied: torchsummary in d:\\users\\marco\\anaconda3\\lib\\site-packages (1.5.1)\n"
     ]
    }
   ],
   "source": [
    "!pip install python-chess\n",
    "!pip install zstandard\n",
    "!pip install py-cpuinfo\n",
    "!pip install torch\n",
    "!pip install torchsummary"
   ]
  },
  {
   "cell_type": "markdown",
   "id": "cd097607",
   "metadata": {},
   "source": [
    "### Extracting the data and creating the array with all PGNs"
   ]
  },
  {
   "cell_type": "code",
   "execution_count": 2,
   "id": "7c6692e7",
   "metadata": {},
   "outputs": [],
   "source": [
    "import re\n",
    "import numpy as np"
   ]
  },
  {
   "cell_type": "code",
   "execution_count": 3,
   "id": "4b258499",
   "metadata": {},
   "outputs": [],
   "source": [
    "from time import time"
   ]
  },
  {
   "cell_type": "code",
   "execution_count": 4,
   "id": "beee0d12",
   "metadata": {},
   "outputs": [
    {
     "name": "stdout",
     "output_type": "stream",
     "text": [
      "Time: 114\n"
     ]
    }
   ],
   "source": [
    "try:\n",
    "    start = time()\n",
    "    games = np.load('games.npy')\n",
    "    print(f\"Time: {round(time()-start)}\")\n",
    "except:\n",
    "    import zstandard as zstd\n",
    "\n",
    "    start = time()\n",
    "\n",
    "    # Open the compressed file\n",
    "    with open('./lichess_db.pgn.zst', 'rb') as file:\n",
    "        # Create a Zstandard decompressor\n",
    "        dctx = zstd.ZstdDecompressor()\n",
    "\n",
    "        # Decompress the file\n",
    "        with dctx.stream_reader(file) as reader:\n",
    "            uncompressed_data = reader.read()\n",
    "\n",
    "    # Decode the uncompressed data\n",
    "    pgn = uncompressed_data.decode('utf-8')\n",
    "    pgns_string = re.sub(r'\\[[^]]*\\]', '', pgn)\n",
    "\n",
    "    # optimize the space\n",
    "    del pgn\n",
    "\n",
    "    list_lines = pgns_string.split('\\n')\n",
    "\n",
    "    # Usiamo un ciclo for per rimuovere le righe vuote dalla lista\n",
    "    lines_not_empty = []\n",
    "    for riga in list_lines:\n",
    "        if riga.strip():  # se la riga non è vuota\n",
    "            lines_not_empty.append(riga)\n",
    "\n",
    "    # Oppure, possiamo usare il metodo filter() per rimuovere le righe vuote dalla lista\n",
    "    lines_not_empty = list(filter(lambda x: x.strip(), list_lines))\n",
    "\n",
    "    # Uniamo le righe non vuote in una stringa\n",
    "    stringa_senza_righe_vuote = '\\n'.join(lines_not_empty)\n",
    "\n",
    "    games = stringa_senza_righe_vuote.split('\\n')\n",
    "    games = np.array(games[:1000000])\n",
    "\n",
    "    games.shape\n",
    "\n",
    "    np.save('games.npy', games)\n",
    "    \n",
    "    print(f\"Time: {round(time()-start)}\")"
   ]
  },
  {
   "cell_type": "code",
   "execution_count": 5,
   "id": "d0107178",
   "metadata": {},
   "outputs": [
    {
     "data": {
      "text/plain": [
       "(1000000,)"
      ]
     },
     "execution_count": 5,
     "metadata": {},
     "output_type": "execute_result"
    }
   ],
   "source": [
    "games.shape"
   ]
  },
  {
   "cell_type": "markdown",
   "id": "50e2c496",
   "metadata": {},
   "source": [
    "### Importing stockfish in Python"
   ]
  },
  {
   "cell_type": "markdown",
   "id": "eba2fbcf",
   "metadata": {},
   "source": [
    "#### Verify supported extensions by the CPU"
   ]
  },
  {
   "cell_type": "code",
   "execution_count": 6,
   "id": "f9c705de",
   "metadata": {},
   "outputs": [
    {
     "name": "stdout",
     "output_type": "stream",
     "text": [
      "('64bit', 'WindowsPE')\n",
      "AVX2 supportato:  True\n",
      "POPCNT supportato:  True\n"
     ]
    }
   ],
   "source": [
    "import platform\n",
    "import cpuinfo\n",
    "\n",
    "# Verifica l'architettura della CPU\n",
    "print(platform.architecture())\n",
    "\n",
    "# Ottieni le informazioni sulla CPU\n",
    "info = cpuinfo.get_cpu_info()\n",
    "\n",
    "# Verifica se l'estensione AVX2 è supportata\n",
    "print('AVX2 supportato: ', 'avx2' in info['flags'])\n",
    "\n",
    "# Verifica se la popcount instruction è supportata\n",
    "print('POPCNT supportato: ', 'popcnt' in info['flags'])"
   ]
  },
  {
   "cell_type": "markdown",
   "id": "751cb3c2",
   "metadata": {},
   "source": [
    "#### Creating chess engine class"
   ]
  },
  {
   "cell_type": "code",
   "execution_count": 7,
   "id": "7652d1a0",
   "metadata": {},
   "outputs": [],
   "source": [
    "import chess.engine"
   ]
  },
  {
   "cell_type": "code",
   "execution_count": 8,
   "id": "9ebecc1e",
   "metadata": {},
   "outputs": [],
   "source": [
    "stockfish_path = \"./stockfish/stockfish-windows-2022-x86-64-avx2.exe\"\n",
    "engine = chess.engine.SimpleEngine.popen_uci(stockfish_path) "
   ]
  },
  {
   "cell_type": "markdown",
   "id": "f80852c4",
   "metadata": {},
   "source": [
    "#### Testing stockfish eval"
   ]
  },
  {
   "cell_type": "code",
   "execution_count": 9,
   "id": "07fb137f",
   "metadata": {},
   "outputs": [
    {
     "name": "stdout",
     "output_type": "stream",
     "text": [
      "r n b q k b n r\n",
      "p p p p p p p p\n",
      ". . . . . . . .\n",
      ". . . . . . . .\n",
      ". . . . . . . .\n",
      ". . . . . . . .\n",
      "P P P P P P P P\n",
      "R N B Q K B N R\n",
      "Punteggio : 23\n"
     ]
    }
   ],
   "source": [
    "import chess.pgn\n",
    "import io\n",
    "import subprocess\n",
    "\n",
    "pgn_file = io.StringIO(games[0])\n",
    "\n",
    "game = chess.pgn.read_game(pgn_file)\n",
    "board = game.board()\n",
    "\n",
    "for i, move in enumerate(game.mainline_moves()):\n",
    "  board.push(move)\n",
    "\n",
    "print(board)\n",
    "\n",
    "info = engine.analyse(board, chess.engine.Limit(time=2.0))\n",
    "\n",
    "centipawn = int(str(info['score']).replace(\"PovScore(Cp(\", \"\").replace(\")\", \"\").split(',')[0])\n",
    "\n",
    "print(f\"Punteggio : {centipawn}\")"
   ]
  },
  {
   "cell_type": "markdown",
   "id": "fd7f76ab",
   "metadata": {},
   "source": [
    "### Creating utility functions"
   ]
  },
  {
   "cell_type": "code",
   "execution_count": 10,
   "id": "dfdb5548",
   "metadata": {},
   "outputs": [],
   "source": [
    "import chess"
   ]
  },
  {
   "cell_type": "code",
   "execution_count": 11,
   "id": "013603fa",
   "metadata": {},
   "outputs": [],
   "source": [
    "squares_index = {\n",
    "  'a':0,\n",
    "  'b':1,\n",
    "  'c':2,\n",
    "  'd':3,\n",
    "  'e':4,\n",
    "  'f':5,\n",
    "  'g':6,\n",
    "  'h':7,\n",
    "}"
   ]
  },
  {
   "cell_type": "code",
   "execution_count": 12,
   "id": "14fc161c",
   "metadata": {},
   "outputs": [],
   "source": [
    "def square_to_index(square):\n",
    "  letter = chess.square_name(square)\n",
    "  return 8-int(letter[1]), squares_index[letter[0]]\n",
    "\n",
    "def get_board_array(board):\n",
    "    \n",
    "    pieces_position = np.zeros([14, 8, 8])\n",
    "\n",
    "    for i in range(8):\n",
    "      for j in range(8):\n",
    "        square = chess.square(j, i)\n",
    "        piece = board.piece_at(square)\n",
    "        valueBoard = 0 if piece is not None and  piece.color == chess.WHITE else 6\n",
    "\n",
    "        # creazione per i pezzi bianchi\n",
    "        if piece is not None and piece.piece_type == chess.PAWN:\n",
    "          pieces_position[0 + valueBoard, 7-i, j] = 1\n",
    "        elif piece is not None and piece.piece_type == chess.ROOK:\n",
    "          pieces_position[1 + valueBoard, 7-i, j] = 1\n",
    "        elif piece is not None and piece.piece_type == chess.KNIGHT:\n",
    "          pieces_position[2 + valueBoard, 7-i, j] = 1\n",
    "        elif piece is not None and piece.piece_type == chess.BISHOP:\n",
    "          pieces_position[3 + valueBoard, 7-i, j] = 1\n",
    "        elif piece is not None and piece.piece_type == chess.QUEEN:\n",
    "          pieces_position[4 + valueBoard, 7-i, j] = 1\n",
    "        elif piece is not None and piece.piece_type == chess.KING:\n",
    "          pieces_position[5 + valueBoard, 7-i, j] = 1\n",
    "    \n",
    "    \n",
    "    aux = board.turn\n",
    "    board.turn = chess.WHITE\n",
    "    for move in board.legal_moves:\n",
    "      i, j = square_to_index(move.to_square)\n",
    "      pieces_position[12, i, j] = 1\n",
    "      \n",
    "    board.turn = chess.BLACK\n",
    "    for move in board.legal_moves:\n",
    "      i, j = square_to_index(move.to_square)\n",
    "      pieces_position[13, i, j] = 1\n",
    "    board.turn = aux\n",
    "        \n",
    "\n",
    "    return pieces_position"
   ]
  },
  {
   "cell_type": "code",
   "execution_count": 13,
   "id": "83f6a549",
   "metadata": {},
   "outputs": [
    {
     "name": "stdout",
     "output_type": "stream",
     "text": [
      "[[[0. 0. 0. 0. 0. 0. 0. 0.]\n",
      "  [0. 0. 0. 0. 0. 0. 0. 0.]\n",
      "  [0. 0. 0. 0. 0. 0. 0. 0.]\n",
      "  [0. 0. 0. 0. 0. 0. 0. 0.]\n",
      "  [0. 0. 0. 0. 0. 0. 0. 0.]\n",
      "  [0. 0. 0. 0. 0. 0. 0. 0.]\n",
      "  [1. 1. 1. 1. 1. 1. 1. 1.]\n",
      "  [0. 0. 0. 0. 0. 0. 0. 0.]]\n",
      "\n",
      " [[0. 0. 0. 0. 0. 0. 0. 0.]\n",
      "  [0. 0. 0. 0. 0. 0. 0. 0.]\n",
      "  [0. 0. 0. 0. 0. 0. 0. 0.]\n",
      "  [0. 0. 0. 0. 0. 0. 0. 0.]\n",
      "  [0. 0. 0. 0. 0. 0. 0. 0.]\n",
      "  [0. 0. 0. 0. 0. 0. 0. 0.]\n",
      "  [0. 0. 0. 0. 0. 0. 0. 0.]\n",
      "  [1. 0. 0. 0. 0. 0. 0. 1.]]\n",
      "\n",
      " [[0. 0. 0. 0. 0. 0. 0. 0.]\n",
      "  [0. 0. 0. 0. 0. 0. 0. 0.]\n",
      "  [0. 0. 0. 0. 0. 0. 0. 0.]\n",
      "  [0. 0. 0. 0. 0. 0. 0. 0.]\n",
      "  [0. 0. 0. 0. 0. 0. 0. 0.]\n",
      "  [0. 0. 0. 0. 0. 0. 0. 0.]\n",
      "  [0. 0. 0. 0. 0. 0. 0. 0.]\n",
      "  [0. 1. 0. 0. 0. 0. 1. 0.]]\n",
      "\n",
      " [[0. 0. 0. 0. 0. 0. 0. 0.]\n",
      "  [0. 0. 0. 0. 0. 0. 0. 0.]\n",
      "  [0. 0. 0. 0. 0. 0. 0. 0.]\n",
      "  [0. 0. 0. 0. 0. 0. 0. 0.]\n",
      "  [0. 0. 0. 0. 0. 0. 0. 0.]\n",
      "  [0. 0. 0. 0. 0. 0. 0. 0.]\n",
      "  [0. 0. 0. 0. 0. 0. 0. 0.]\n",
      "  [0. 0. 1. 0. 0. 1. 0. 0.]]\n",
      "\n",
      " [[0. 0. 0. 0. 0. 0. 0. 0.]\n",
      "  [0. 0. 0. 0. 0. 0. 0. 0.]\n",
      "  [0. 0. 0. 0. 0. 0. 0. 0.]\n",
      "  [0. 0. 0. 0. 0. 0. 0. 0.]\n",
      "  [0. 0. 0. 0. 0. 0. 0. 0.]\n",
      "  [0. 0. 0. 0. 0. 0. 0. 0.]\n",
      "  [0. 0. 0. 0. 0. 0. 0. 0.]\n",
      "  [0. 0. 0. 1. 0. 0. 0. 0.]]\n",
      "\n",
      " [[0. 0. 0. 0. 0. 0. 0. 0.]\n",
      "  [0. 0. 0. 0. 0. 0. 0. 0.]\n",
      "  [0. 0. 0. 0. 0. 0. 0. 0.]\n",
      "  [0. 0. 0. 0. 0. 0. 0. 0.]\n",
      "  [0. 0. 0. 0. 0. 0. 0. 0.]\n",
      "  [0. 0. 0. 0. 0. 0. 0. 0.]\n",
      "  [0. 0. 0. 0. 0. 0. 0. 0.]\n",
      "  [0. 0. 0. 0. 1. 0. 0. 0.]]\n",
      "\n",
      " [[0. 0. 0. 0. 0. 0. 0. 0.]\n",
      "  [1. 1. 1. 1. 1. 1. 1. 1.]\n",
      "  [0. 0. 0. 0. 0. 0. 0. 0.]\n",
      "  [0. 0. 0. 0. 0. 0. 0. 0.]\n",
      "  [0. 0. 0. 0. 0. 0. 0. 0.]\n",
      "  [0. 0. 0. 0. 0. 0. 0. 0.]\n",
      "  [0. 0. 0. 0. 0. 0. 0. 0.]\n",
      "  [0. 0. 0. 0. 0. 0. 0. 0.]]\n",
      "\n",
      " [[1. 0. 0. 0. 0. 0. 0. 1.]\n",
      "  [0. 0. 0. 0. 0. 0. 0. 0.]\n",
      "  [0. 0. 0. 0. 0. 0. 0. 0.]\n",
      "  [0. 0. 0. 0. 0. 0. 0. 0.]\n",
      "  [0. 0. 0. 0. 0. 0. 0. 0.]\n",
      "  [0. 0. 0. 0. 0. 0. 0. 0.]\n",
      "  [0. 0. 0. 0. 0. 0. 0. 0.]\n",
      "  [0. 0. 0. 0. 0. 0. 0. 0.]]\n",
      "\n",
      " [[0. 1. 0. 0. 0. 0. 1. 0.]\n",
      "  [0. 0. 0. 0. 0. 0. 0. 0.]\n",
      "  [0. 0. 0. 0. 0. 0. 0. 0.]\n",
      "  [0. 0. 0. 0. 0. 0. 0. 0.]\n",
      "  [0. 0. 0. 0. 0. 0. 0. 0.]\n",
      "  [0. 0. 0. 0. 0. 0. 0. 0.]\n",
      "  [0. 0. 0. 0. 0. 0. 0. 0.]\n",
      "  [0. 0. 0. 0. 0. 0. 0. 0.]]\n",
      "\n",
      " [[0. 0. 1. 0. 0. 1. 0. 0.]\n",
      "  [0. 0. 0. 0. 0. 0. 0. 0.]\n",
      "  [0. 0. 0. 0. 0. 0. 0. 0.]\n",
      "  [0. 0. 0. 0. 0. 0. 0. 0.]\n",
      "  [0. 0. 0. 0. 0. 0. 0. 0.]\n",
      "  [0. 0. 0. 0. 0. 0. 0. 0.]\n",
      "  [0. 0. 0. 0. 0. 0. 0. 0.]\n",
      "  [0. 0. 0. 0. 0. 0. 0. 0.]]\n",
      "\n",
      " [[0. 0. 0. 1. 0. 0. 0. 0.]\n",
      "  [0. 0. 0. 0. 0. 0. 0. 0.]\n",
      "  [0. 0. 0. 0. 0. 0. 0. 0.]\n",
      "  [0. 0. 0. 0. 0. 0. 0. 0.]\n",
      "  [0. 0. 0. 0. 0. 0. 0. 0.]\n",
      "  [0. 0. 0. 0. 0. 0. 0. 0.]\n",
      "  [0. 0. 0. 0. 0. 0. 0. 0.]\n",
      "  [0. 0. 0. 0. 0. 0. 0. 0.]]\n",
      "\n",
      " [[0. 0. 0. 0. 1. 0. 0. 0.]\n",
      "  [0. 0. 0. 0. 0. 0. 0. 0.]\n",
      "  [0. 0. 0. 0. 0. 0. 0. 0.]\n",
      "  [0. 0. 0. 0. 0. 0. 0. 0.]\n",
      "  [0. 0. 0. 0. 0. 0. 0. 0.]\n",
      "  [0. 0. 0. 0. 0. 0. 0. 0.]\n",
      "  [0. 0. 0. 0. 0. 0. 0. 0.]\n",
      "  [0. 0. 0. 0. 0. 0. 0. 0.]]\n",
      "\n",
      " [[0. 0. 0. 0. 0. 0. 0. 0.]\n",
      "  [0. 0. 0. 0. 0. 0. 0. 0.]\n",
      "  [0. 0. 0. 0. 0. 0. 0. 0.]\n",
      "  [0. 0. 0. 0. 0. 0. 0. 0.]\n",
      "  [1. 1. 1. 1. 1. 1. 1. 1.]\n",
      "  [1. 1. 1. 1. 1. 1. 1. 1.]\n",
      "  [0. 0. 0. 0. 0. 0. 0. 0.]\n",
      "  [0. 0. 0. 0. 0. 0. 0. 0.]]\n",
      "\n",
      " [[0. 0. 0. 0. 0. 0. 0. 0.]\n",
      "  [0. 0. 0. 0. 0. 0. 0. 0.]\n",
      "  [1. 1. 1. 1. 1. 1. 1. 1.]\n",
      "  [1. 1. 1. 1. 1. 1. 1. 1.]\n",
      "  [0. 0. 0. 0. 0. 0. 0. 0.]\n",
      "  [0. 0. 0. 0. 0. 0. 0. 0.]\n",
      "  [0. 0. 0. 0. 0. 0. 0. 0.]\n",
      "  [0. 0. 0. 0. 0. 0. 0. 0.]]]\n"
     ]
    }
   ],
   "source": [
    "board = chess.Board()\n",
    "\n",
    "print(get_board_array(board))"
   ]
  },
  {
   "cell_type": "code",
   "execution_count": 14,
   "id": "b4dba4ae",
   "metadata": {},
   "outputs": [
    {
     "name": "stdout",
     "output_type": "stream",
     "text": [
      "[[[0. 0. 0. 0. 0. 0. 0. 0.]\n",
      "  [0. 0. 0. 0. 0. 0. 0. 0.]\n",
      "  [0. 0. 0. 0. 0. 0. 0. 0.]\n",
      "  [0. 0. 0. 0. 0. 0. 0. 0.]\n",
      "  [0. 0. 0. 0. 1. 0. 0. 0.]\n",
      "  [0. 0. 0. 0. 0. 0. 0. 0.]\n",
      "  [1. 1. 1. 1. 0. 1. 1. 1.]\n",
      "  [0. 0. 0. 0. 0. 0. 0. 0.]]\n",
      "\n",
      " [[0. 0. 0. 0. 0. 0. 0. 0.]\n",
      "  [0. 0. 0. 0. 0. 0. 0. 0.]\n",
      "  [0. 0. 0. 0. 0. 0. 0. 0.]\n",
      "  [0. 0. 0. 0. 0. 0. 0. 0.]\n",
      "  [0. 0. 0. 0. 0. 0. 0. 0.]\n",
      "  [0. 0. 0. 0. 0. 0. 0. 0.]\n",
      "  [0. 0. 0. 0. 0. 0. 0. 0.]\n",
      "  [1. 0. 0. 0. 0. 0. 0. 1.]]\n",
      "\n",
      " [[0. 0. 0. 0. 0. 0. 0. 0.]\n",
      "  [0. 0. 0. 0. 0. 0. 0. 0.]\n",
      "  [0. 0. 0. 0. 0. 0. 0. 0.]\n",
      "  [0. 0. 0. 0. 0. 0. 0. 0.]\n",
      "  [0. 0. 0. 0. 0. 0. 0. 0.]\n",
      "  [0. 0. 0. 0. 0. 0. 0. 0.]\n",
      "  [0. 0. 0. 0. 0. 0. 0. 0.]\n",
      "  [0. 1. 0. 0. 0. 0. 1. 0.]]\n",
      "\n",
      " [[0. 0. 0. 0. 0. 0. 0. 0.]\n",
      "  [0. 0. 0. 0. 0. 0. 0. 0.]\n",
      "  [0. 0. 0. 0. 0. 0. 0. 0.]\n",
      "  [0. 0. 0. 0. 0. 0. 0. 0.]\n",
      "  [0. 0. 0. 0. 0. 0. 0. 0.]\n",
      "  [0. 0. 0. 0. 0. 0. 0. 0.]\n",
      "  [0. 0. 0. 0. 0. 0. 0. 0.]\n",
      "  [0. 0. 1. 0. 0. 1. 0. 0.]]\n",
      "\n",
      " [[0. 0. 0. 0. 0. 0. 0. 0.]\n",
      "  [0. 0. 0. 0. 0. 0. 0. 0.]\n",
      "  [0. 0. 0. 0. 0. 0. 0. 0.]\n",
      "  [0. 0. 0. 0. 0. 0. 0. 0.]\n",
      "  [0. 0. 0. 0. 0. 0. 0. 0.]\n",
      "  [0. 0. 0. 0. 0. 0. 0. 0.]\n",
      "  [0. 0. 0. 0. 0. 0. 0. 0.]\n",
      "  [0. 0. 0. 1. 0. 0. 0. 0.]]\n",
      "\n",
      " [[0. 0. 0. 0. 0. 0. 0. 0.]\n",
      "  [0. 0. 0. 0. 0. 0. 0. 0.]\n",
      "  [0. 0. 0. 0. 0. 0. 0. 0.]\n",
      "  [0. 0. 0. 0. 0. 0. 0. 0.]\n",
      "  [0. 0. 0. 0. 0. 0. 0. 0.]\n",
      "  [0. 0. 0. 0. 0. 0. 0. 0.]\n",
      "  [0. 0. 0. 0. 0. 0. 0. 0.]\n",
      "  [0. 0. 0. 0. 1. 0. 0. 0.]]\n",
      "\n",
      " [[0. 0. 0. 0. 0. 0. 0. 0.]\n",
      "  [1. 1. 1. 1. 0. 1. 1. 1.]\n",
      "  [0. 0. 0. 0. 0. 0. 0. 0.]\n",
      "  [0. 0. 0. 0. 1. 0. 0. 0.]\n",
      "  [0. 0. 0. 0. 0. 0. 0. 0.]\n",
      "  [0. 0. 0. 0. 0. 0. 0. 0.]\n",
      "  [0. 0. 0. 0. 0. 0. 0. 0.]\n",
      "  [0. 0. 0. 0. 0. 0. 0. 0.]]\n",
      "\n",
      " [[1. 0. 0. 0. 0. 0. 0. 1.]\n",
      "  [0. 0. 0. 0. 0. 0. 0. 0.]\n",
      "  [0. 0. 0. 0. 0. 0. 0. 0.]\n",
      "  [0. 0. 0. 0. 0. 0. 0. 0.]\n",
      "  [0. 0. 0. 0. 0. 0. 0. 0.]\n",
      "  [0. 0. 0. 0. 0. 0. 0. 0.]\n",
      "  [0. 0. 0. 0. 0. 0. 0. 0.]\n",
      "  [0. 0. 0. 0. 0. 0. 0. 0.]]\n",
      "\n",
      " [[0. 1. 0. 0. 0. 0. 1. 0.]\n",
      "  [0. 0. 0. 0. 0. 0. 0. 0.]\n",
      "  [0. 0. 0. 0. 0. 0. 0. 0.]\n",
      "  [0. 0. 0. 0. 0. 0. 0. 0.]\n",
      "  [0. 0. 0. 0. 0. 0. 0. 0.]\n",
      "  [0. 0. 0. 0. 0. 0. 0. 0.]\n",
      "  [0. 0. 0. 0. 0. 0. 0. 0.]\n",
      "  [0. 0. 0. 0. 0. 0. 0. 0.]]\n",
      "\n",
      " [[0. 0. 1. 0. 0. 1. 0. 0.]\n",
      "  [0. 0. 0. 0. 0. 0. 0. 0.]\n",
      "  [0. 0. 0. 0. 0. 0. 0. 0.]\n",
      "  [0. 0. 0. 0. 0. 0. 0. 0.]\n",
      "  [0. 0. 0. 0. 0. 0. 0. 0.]\n",
      "  [0. 0. 0. 0. 0. 0. 0. 0.]\n",
      "  [0. 0. 0. 0. 0. 0. 0. 0.]\n",
      "  [0. 0. 0. 0. 0. 0. 0. 0.]]\n",
      "\n",
      " [[0. 0. 0. 1. 0. 0. 0. 0.]\n",
      "  [0. 0. 0. 0. 0. 0. 0. 0.]\n",
      "  [0. 0. 0. 0. 0. 0. 0. 0.]\n",
      "  [0. 0. 0. 0. 0. 0. 0. 0.]\n",
      "  [0. 0. 0. 0. 0. 0. 0. 0.]\n",
      "  [0. 0. 0. 0. 0. 0. 0. 0.]\n",
      "  [0. 0. 0. 0. 0. 0. 0. 0.]\n",
      "  [0. 0. 0. 0. 0. 0. 0. 0.]]\n",
      "\n",
      " [[0. 0. 0. 0. 1. 0. 0. 0.]\n",
      "  [0. 0. 0. 0. 0. 0. 0. 0.]\n",
      "  [0. 0. 0. 0. 0. 0. 0. 0.]\n",
      "  [0. 0. 0. 0. 0. 0. 0. 0.]\n",
      "  [0. 0. 0. 0. 0. 0. 0. 0.]\n",
      "  [0. 0. 0. 0. 0. 0. 0. 0.]\n",
      "  [0. 0. 0. 0. 0. 0. 0. 0.]\n",
      "  [0. 0. 0. 0. 0. 0. 0. 0.]]\n",
      "\n",
      " [[0. 0. 0. 0. 0. 0. 0. 0.]\n",
      "  [0. 0. 0. 0. 0. 0. 0. 0.]\n",
      "  [1. 0. 0. 0. 0. 0. 0. 0.]\n",
      "  [0. 1. 0. 0. 0. 0. 0. 1.]\n",
      "  [1. 1. 1. 1. 0. 1. 1. 1.]\n",
      "  [1. 1. 1. 1. 0. 1. 1. 1.]\n",
      "  [0. 0. 0. 0. 1. 0. 0. 0.]\n",
      "  [0. 0. 0. 0. 0. 0. 0. 0.]]\n",
      "\n",
      " [[0. 0. 0. 0. 0. 0. 0. 0.]\n",
      "  [0. 0. 0. 0. 1. 0. 0. 0.]\n",
      "  [1. 1. 1. 1. 0. 1. 1. 1.]\n",
      "  [1. 1. 1. 1. 0. 1. 1. 1.]\n",
      "  [0. 1. 0. 0. 0. 0. 0. 1.]\n",
      "  [1. 0. 0. 0. 0. 0. 0. 0.]\n",
      "  [0. 0. 0. 0. 0. 0. 0. 0.]\n",
      "  [0. 0. 0. 0. 0. 0. 0. 0.]]]\n"
     ]
    }
   ],
   "source": [
    "board = chess.Board()\n",
    "\n",
    "board.push_san('e4')\n",
    "board.push_san('e5')\n",
    "\n",
    "print(get_board_array(board))"
   ]
  },
  {
   "cell_type": "markdown",
   "id": "4be78131",
   "metadata": {},
   "source": [
    "## Creating the dataset"
   ]
  },
  {
   "cell_type": "code",
   "execution_count": 15,
   "id": "15b844f7",
   "metadata": {},
   "outputs": [],
   "source": [
    "data_path = \"./data.npy\"\n",
    "labels_path = \"./labels.npy\"\n",
    "perm_path = \"./permutations.npy\"\n",
    "made_positions_path = \"./made_positions.npy\""
   ]
  },
  {
   "cell_type": "code",
   "execution_count": 16,
   "id": "46b8d531",
   "metadata": {},
   "outputs": [
    {
     "name": "stdout",
     "output_type": "stream",
     "text": [
      "Creating made_positions\n",
      "Creating data\n",
      "Creating labels\n",
      "Creating perm\n"
     ]
    }
   ],
   "source": [
    "np.random.seed(42)\n",
    "\n",
    "# l'array iniziale e' la posizione senza mosse\n",
    "board = game.board()\n",
    "\n",
    "try:\n",
    "  already_made_positions = np.load(made_positions_path)\n",
    "except:\n",
    "  print('Creating made_positions')\n",
    "  board = chess.Board()\n",
    "  already_made_positions = np.array([str(board)], dtype=str)\n",
    "\n",
    "try:\n",
    "  data = np.load(data_path)\n",
    "except:\n",
    "  print('Creating data')\n",
    "  data = get_board_array(board).reshape(1, 14, 8, 8)\n",
    "\n",
    "try:\n",
    "  labels = np.load(labels_path)\n",
    "except:\n",
    "  print('Creating labels')\n",
    "  labels = np.array([int(str(engine.analyse(board, chess.engine.Limit(time=2.0, depth=14))['score']).replace(\"PovScore(Cp(\", \"\").replace(\")\", \"\").split(',')[0])])\n",
    "\n",
    "try:\n",
    "  perm = np.load(perm_path)\n",
    "except: \n",
    "  print('Creating perm')\n",
    "  perm = np.random.permutation(len(games))"
   ]
  },
  {
   "cell_type": "code",
   "execution_count": 17,
   "id": "54960fe2",
   "metadata": {},
   "outputs": [],
   "source": [
    "import sys"
   ]
  },
  {
   "cell_type": "code",
   "execution_count": 18,
   "id": "3de42168",
   "metadata": {},
   "outputs": [],
   "source": [
    "import copy"
   ]
  },
  {
   "cell_type": "code",
   "execution_count": 19,
   "id": "45349f98",
   "metadata": {},
   "outputs": [],
   "source": [
    "nGames = 250000\n",
    "selectedGames = copy.deepcopy(games[perm[:nGames]])\n",
    "del games"
   ]
  },
  {
   "cell_type": "code",
   "execution_count": 33,
   "id": "1c6ac248",
   "metadata": {},
   "outputs": [
    {
     "name": "stdout",
     "output_type": "stream",
     "text": [
      "Doing game number 448 of 250000"
     ]
    },
    {
     "ename": "KeyboardInterrupt",
     "evalue": "",
     "output_type": "error",
     "traceback": [
      "\u001b[1;31m---------------------------------------------------------------------------\u001b[0m",
      "\u001b[1;31mKeyboardInterrupt\u001b[0m                         Traceback (most recent call last)",
      "Input \u001b[1;32mIn [33]\u001b[0m, in \u001b[0;36m<cell line: 1>\u001b[1;34m()\u001b[0m\n\u001b[0;32m     25\u001b[0m         centipawn \u001b[38;5;241m=\u001b[39m centipawn \u001b[38;5;241m*\u001b[39m \u001b[38;5;241m-\u001b[39m\u001b[38;5;241m1\u001b[39m\n\u001b[0;32m     27\u001b[0m       \u001b[38;5;66;03m# aggiungere dati al dataset\u001b[39;00m\n\u001b[1;32m---> 28\u001b[0m       data \u001b[38;5;241m=\u001b[39m \u001b[43mnp\u001b[49m\u001b[38;5;241;43m.\u001b[39;49m\u001b[43mconcatenate\u001b[49m\u001b[43m(\u001b[49m\u001b[43m(\u001b[49m\u001b[43mdata\u001b[49m\u001b[43m,\u001b[49m\u001b[43m \u001b[49m\u001b[43mboard_array\u001b[49m\u001b[38;5;241;43m.\u001b[39;49m\u001b[43mreshape\u001b[49m\u001b[43m(\u001b[49m\u001b[38;5;241;43m1\u001b[39;49m\u001b[43m,\u001b[49m\u001b[43m \u001b[49m\u001b[38;5;241;43m14\u001b[39;49m\u001b[43m,\u001b[49m\u001b[43m \u001b[49m\u001b[38;5;241;43m8\u001b[39;49m\u001b[43m,\u001b[49m\u001b[43m \u001b[49m\u001b[38;5;241;43m8\u001b[39;49m\u001b[43m)\u001b[49m\u001b[43m)\u001b[49m\u001b[43m,\u001b[49m\u001b[43m \u001b[49m\u001b[43maxis\u001b[49m\u001b[38;5;241;43m=\u001b[39;49m\u001b[38;5;241;43m0\u001b[39;49m\u001b[43m)\u001b[49m\n\u001b[0;32m     29\u001b[0m       labels \u001b[38;5;241m=\u001b[39m np\u001b[38;5;241m.\u001b[39mappend(labels, centipawn)\n\u001b[0;32m     30\u001b[0m \u001b[38;5;28;01mtry\u001b[39;00m:\n",
      "File \u001b[1;32m<__array_function__ internals>:5\u001b[0m, in \u001b[0;36mconcatenate\u001b[1;34m(*args, **kwargs)\u001b[0m\n",
      "\u001b[1;31mKeyboardInterrupt\u001b[0m: "
     ]
    }
   ],
   "source": [
    "for index_game, game in enumerate(selectedGames):\n",
    "    \n",
    "  sys.stdout.write(f\"\\rDoing game number {index_game + 1} of {len(selectedGames)}\")\n",
    "  sys.stdout.flush()\n",
    "\n",
    "  pgn_file = io.StringIO(game)\n",
    "  game = chess.pgn.read_game(pgn_file)\n",
    "  board = game.board()\n",
    "\n",
    "  for i, move in enumerate(game.mainline_moves()):\n",
    "\n",
    "    board.push(move)\n",
    "\n",
    "    if not np.any(np.char.equal(already_made_positions, str(board))):\n",
    "      \n",
    "      board_array = get_board_array(board)\n",
    "\n",
    "      already_made_positions = np.append(already_made_positions, str(board))\n",
    "\n",
    "      # ottenere lo score della posizione\n",
    "      info = engine.analyse(board, chess.engine.Limit(depth=15))\n",
    "      if(not info['score'].is_mate()):\n",
    "        centipawn = int(str(info['score']).replace(\"PovScore(Cp(\", \"\").replace(\")\", \"\").split(',')[0])\n",
    "        if((i+1)%2 != 0):\n",
    "          centipawn = centipawn * -1\n",
    "\n",
    "        # aggiungere dati al dataset\n",
    "        data = np.concatenate((data, board_array.reshape(1, 14, 8, 8)), axis=0)\n",
    "        labels = np.append(labels, centipawn)"
   ]
  },
  {
   "cell_type": "code",
   "execution_count": 34,
   "id": "145b9e75",
   "metadata": {},
   "outputs": [],
   "source": [
    "np.save(\"data.npy\", data)\n",
    "np.save(\"labels.npy\", labels)\n",
    "np.save('made_positions.npy', already_made_positions)\n",
    "np.save(\"permutations.npy\", perm)"
   ]
  },
  {
   "cell_type": "code",
   "execution_count": 35,
   "id": "9de602a0",
   "metadata": {},
   "outputs": [
    {
     "data": {
      "text/plain": [
       "((25603, 14, 8, 8), (25603,), (27127,))"
      ]
     },
     "execution_count": 35,
     "metadata": {},
     "output_type": "execute_result"
    }
   ],
   "source": [
    "data.shape, labels.shape, already_made_positions.shape"
   ]
  },
  {
   "cell_type": "markdown",
   "id": "52f77280",
   "metadata": {},
   "source": [
    "## PyTorch model"
   ]
  },
  {
   "cell_type": "markdown",
   "id": "d79cb449",
   "metadata": {},
   "source": [
    "### Splitting the data"
   ]
  },
  {
   "cell_type": "code",
   "execution_count": 36,
   "id": "7d3f7a80",
   "metadata": {},
   "outputs": [],
   "source": [
    "from sklearn.model_selection import train_test_split\n",
    "import torch\n",
    "import torch.nn as nn\n",
    "import torch.nn.functional as F\n",
    "from torch.utils.data import TensorDataset, DataLoader"
   ]
  },
  {
   "cell_type": "code",
   "execution_count": 37,
   "id": "5acfb375",
   "metadata": {},
   "outputs": [
    {
     "name": "stdout",
     "output_type": "stream",
     "text": [
      "cpu\n"
     ]
    }
   ],
   "source": [
    "device = torch.device('cuda:0' if torch.cuda.is_available() else 'cpu')\n",
    "print(device)"
   ]
  },
  {
   "cell_type": "code",
   "execution_count": 38,
   "id": "d07e90f1",
   "metadata": {},
   "outputs": [],
   "source": [
    "dataT = torch.Tensor(data).to(device)\n",
    "labelsT = torch.Tensor((labels/100).reshape(len(labels), 1)).to(device)"
   ]
  },
  {
   "cell_type": "code",
   "execution_count": 39,
   "id": "ea8867e5",
   "metadata": {},
   "outputs": [
    {
     "data": {
      "text/plain": [
       "torch.Size([25603, 14, 8, 8])"
      ]
     },
     "execution_count": 39,
     "metadata": {},
     "output_type": "execute_result"
    }
   ],
   "source": [
    "dataT.shape"
   ]
  },
  {
   "cell_type": "code",
   "execution_count": 40,
   "id": "90b8a57d",
   "metadata": {},
   "outputs": [
    {
     "data": {
      "text/plain": [
       "torch.Size([25603, 1])"
      ]
     },
     "execution_count": 40,
     "metadata": {},
     "output_type": "execute_result"
    }
   ],
   "source": [
    "labelsT.shape"
   ]
  },
  {
   "cell_type": "code",
   "execution_count": 41,
   "id": "14ba6971",
   "metadata": {},
   "outputs": [],
   "source": [
    "train, test, train_labels, test_labels = train_test_split(dataT, labelsT, train_size=0.975, shuffle=True)\n",
    "\n",
    "train_data = TensorDataset(train, train_labels)\n",
    "test_data = TensorDataset(test, test_labels)\n",
    "\n",
    "batchsize = 64\n",
    "train_loader  = DataLoader(train_data, batchsize, False, drop_last=True)\n",
    "test_loader  = DataLoader(train_data, test_data.tensors[0].shape[0], False, drop_last=True)"
   ]
  },
  {
   "cell_type": "markdown",
   "id": "99b370be",
   "metadata": {},
   "source": [
    "### Create the model"
   ]
  },
  {
   "cell_type": "code",
   "execution_count": 93,
   "id": "49f5971f",
   "metadata": {},
   "outputs": [],
   "source": [
    "class modelCreator(nn.Module):\n",
    "  def __init__(self):\n",
    "    super().__init__()\n",
    "\n",
    "    self.layers = nn.ModuleDict()\n",
    "\n",
    "    self.layers['conv1'] = nn.Conv2d(14, 32, 3, padding='same')\n",
    "    self.layers['pool1'] = nn.MaxPool2d(2, 2)\n",
    "    self.layers['bnorm1'] = nn.BatchNorm2d(32)\n",
    "    self.layers['act1'] = nn.ReLU()\n",
    "    # (8 + 2 - 3)/1 + 1 -> pooling -> 4\n",
    "    self.layers['conv2'] = nn.Conv2d(32, 128, 3, padding='same')\n",
    "    self.layers['pool2'] = nn.MaxPool2d(2, 2)\n",
    "    self.layers['bnorm2'] = nn.BatchNorm2d(128)\n",
    "    self.layers['act2'] = nn.ReLU()\n",
    "    # (6 + 2 - 3)/1 + 1 -> pooling -> 2\n",
    "\n",
    "    self.layers['flatten'] = nn.Flatten()\n",
    "\n",
    "    self.layers['fc1'] = nn.Linear(128*2*2, 128)\n",
    "    self.layers['act3'] = nn.ReLU()\n",
    "    self.layers['drop1'] = nn.Dropout(p=.3)\n",
    "    \n",
    "#     self.layers['fc2'] = nn.Linear(256, 256)\n",
    "#     self.layers['act4'] = nn.ReLU()\n",
    "#     self.layers['drop2'] = nn.Dropout(p=.3)\n",
    "    \n",
    "    self.layers['fc4'] = nn.Linear(128, 1)\n",
    "\n",
    "  def forward(self, x):\n",
    "    for name, layer in self.layers.items():\n",
    "      x = layer(x)\n",
    "    return x"
   ]
  },
  {
   "cell_type": "code",
   "execution_count": 94,
   "id": "fca3464b",
   "metadata": {},
   "outputs": [],
   "source": [
    "net = modelCreator().to(device)\n",
    "lossfun = nn.MSELoss()\n",
    "optimizer = torch.optim.Adam(net.parameters(), lr=.001, weight_decay=0.001)"
   ]
  },
  {
   "cell_type": "code",
   "execution_count": 95,
   "id": "327b1027",
   "metadata": {},
   "outputs": [],
   "source": [
    "from torchsummary import summary"
   ]
  },
  {
   "cell_type": "code",
   "execution_count": 96,
   "id": "75f315b3",
   "metadata": {},
   "outputs": [
    {
     "name": "stdout",
     "output_type": "stream",
     "text": [
      "----------------------------------------------------------------\n",
      "        Layer (type)               Output Shape         Param #\n",
      "================================================================\n",
      "            Conv2d-1             [-1, 32, 8, 8]           4,064\n",
      "         MaxPool2d-2             [-1, 32, 4, 4]               0\n",
      "       BatchNorm2d-3             [-1, 32, 4, 4]              64\n",
      "              ReLU-4             [-1, 32, 4, 4]               0\n",
      "            Conv2d-5            [-1, 128, 4, 4]          36,992\n",
      "         MaxPool2d-6            [-1, 128, 2, 2]               0\n",
      "       BatchNorm2d-7            [-1, 128, 2, 2]             256\n",
      "              ReLU-8            [-1, 128, 2, 2]               0\n",
      "           Flatten-9                  [-1, 512]               0\n",
      "           Linear-10                  [-1, 128]          65,664\n",
      "             ReLU-11                  [-1, 128]               0\n",
      "          Dropout-12                  [-1, 128]               0\n",
      "           Linear-13                    [-1, 1]             129\n",
      "================================================================\n",
      "Total params: 107,169\n",
      "Trainable params: 107,169\n",
      "Non-trainable params: 0\n",
      "----------------------------------------------------------------\n",
      "Input size (MB): 0.00\n",
      "Forward/backward pass size (MB): 0.06\n",
      "Params size (MB): 0.41\n",
      "Estimated Total Size (MB): 0.47\n",
      "----------------------------------------------------------------\n"
     ]
    }
   ],
   "source": [
    "summary(net, (14, 8, 8))"
   ]
  },
  {
   "cell_type": "markdown",
   "id": "5c97cc32",
   "metadata": {},
   "source": [
    "### Test if the model works"
   ]
  },
  {
   "cell_type": "code",
   "execution_count": 97,
   "id": "1585364f",
   "metadata": {},
   "outputs": [],
   "source": [
    "X, y = next(iter(test_loader))"
   ]
  },
  {
   "cell_type": "code",
   "execution_count": 98,
   "id": "e324175e",
   "metadata": {},
   "outputs": [
    {
     "name": "stdout",
     "output_type": "stream",
     "text": [
      "45.47834777832031\n"
     ]
    }
   ],
   "source": [
    "loss = lossfun(net(X), y)\n",
    "print(loss.item())"
   ]
  },
  {
   "cell_type": "markdown",
   "id": "eeeca4ee",
   "metadata": {},
   "source": [
    "### Training the model"
   ]
  },
  {
   "cell_type": "code",
   "execution_count": 99,
   "id": "9e396acd",
   "metadata": {},
   "outputs": [
    {
     "name": "stdout",
     "output_type": "stream",
     "text": [
      "Doing epoch number 133 of 1000, train loss: 1.0819416046142578, test loss: 1.387932538986206, bestloss: 0.95942616462707522"
     ]
    },
    {
     "ename": "KeyboardInterrupt",
     "evalue": "",
     "output_type": "error",
     "traceback": [
      "\u001b[1;31m---------------------------------------------------------------------------\u001b[0m",
      "\u001b[1;31mKeyboardInterrupt\u001b[0m                         Traceback (most recent call last)",
      "Input \u001b[1;32mIn [99]\u001b[0m, in \u001b[0;36m<cell line: 11>\u001b[1;34m()\u001b[0m\n\u001b[0;32m     16\u001b[0m batchLosses \u001b[38;5;241m=\u001b[39m []\n\u001b[0;32m     18\u001b[0m \u001b[38;5;28;01mfor\u001b[39;00m X, y \u001b[38;5;129;01min\u001b[39;00m train_loader:\n\u001b[1;32m---> 20\u001b[0m   yHat \u001b[38;5;241m=\u001b[39m \u001b[43mnet\u001b[49m\u001b[43m(\u001b[49m\u001b[43mX\u001b[49m\u001b[43m)\u001b[49m\n\u001b[0;32m     22\u001b[0m   loss \u001b[38;5;241m=\u001b[39m lossfun(yHat, y)\n\u001b[0;32m     23\u001b[0m   batchLosses\u001b[38;5;241m.\u001b[39mappend(loss\u001b[38;5;241m.\u001b[39mitem())\n",
      "File \u001b[1;32mD:\\Users\\marco\\anaconda3\\lib\\site-packages\\torch\\nn\\modules\\module.py:1501\u001b[0m, in \u001b[0;36mModule._call_impl\u001b[1;34m(self, *args, **kwargs)\u001b[0m\n\u001b[0;32m   1496\u001b[0m \u001b[38;5;66;03m# If we don't have any hooks, we want to skip the rest of the logic in\u001b[39;00m\n\u001b[0;32m   1497\u001b[0m \u001b[38;5;66;03m# this function, and just call forward.\u001b[39;00m\n\u001b[0;32m   1498\u001b[0m \u001b[38;5;28;01mif\u001b[39;00m \u001b[38;5;129;01mnot\u001b[39;00m (\u001b[38;5;28mself\u001b[39m\u001b[38;5;241m.\u001b[39m_backward_hooks \u001b[38;5;129;01mor\u001b[39;00m \u001b[38;5;28mself\u001b[39m\u001b[38;5;241m.\u001b[39m_backward_pre_hooks \u001b[38;5;129;01mor\u001b[39;00m \u001b[38;5;28mself\u001b[39m\u001b[38;5;241m.\u001b[39m_forward_hooks \u001b[38;5;129;01mor\u001b[39;00m \u001b[38;5;28mself\u001b[39m\u001b[38;5;241m.\u001b[39m_forward_pre_hooks\n\u001b[0;32m   1499\u001b[0m         \u001b[38;5;129;01mor\u001b[39;00m _global_backward_pre_hooks \u001b[38;5;129;01mor\u001b[39;00m _global_backward_hooks\n\u001b[0;32m   1500\u001b[0m         \u001b[38;5;129;01mor\u001b[39;00m _global_forward_hooks \u001b[38;5;129;01mor\u001b[39;00m _global_forward_pre_hooks):\n\u001b[1;32m-> 1501\u001b[0m     \u001b[38;5;28;01mreturn\u001b[39;00m forward_call(\u001b[38;5;241m*\u001b[39margs, \u001b[38;5;241m*\u001b[39m\u001b[38;5;241m*\u001b[39mkwargs)\n\u001b[0;32m   1502\u001b[0m \u001b[38;5;66;03m# Do not call functions when jit is used\u001b[39;00m\n\u001b[0;32m   1503\u001b[0m full_backward_hooks, non_full_backward_hooks \u001b[38;5;241m=\u001b[39m [], []\n",
      "Input \u001b[1;32mIn [93]\u001b[0m, in \u001b[0;36mmodelCreator.forward\u001b[1;34m(self, x)\u001b[0m\n\u001b[0;32m     30\u001b[0m \u001b[38;5;28;01mdef\u001b[39;00m \u001b[38;5;21mforward\u001b[39m(\u001b[38;5;28mself\u001b[39m, x):\n\u001b[0;32m     31\u001b[0m   \u001b[38;5;28;01mfor\u001b[39;00m name, layer \u001b[38;5;129;01min\u001b[39;00m \u001b[38;5;28mself\u001b[39m\u001b[38;5;241m.\u001b[39mlayers\u001b[38;5;241m.\u001b[39mitems():\n\u001b[1;32m---> 32\u001b[0m     x \u001b[38;5;241m=\u001b[39m \u001b[43mlayer\u001b[49m\u001b[43m(\u001b[49m\u001b[43mx\u001b[49m\u001b[43m)\u001b[49m\n\u001b[0;32m     33\u001b[0m   \u001b[38;5;28;01mreturn\u001b[39;00m x\n",
      "File \u001b[1;32mD:\\Users\\marco\\anaconda3\\lib\\site-packages\\torch\\nn\\modules\\module.py:1501\u001b[0m, in \u001b[0;36mModule._call_impl\u001b[1;34m(self, *args, **kwargs)\u001b[0m\n\u001b[0;32m   1496\u001b[0m \u001b[38;5;66;03m# If we don't have any hooks, we want to skip the rest of the logic in\u001b[39;00m\n\u001b[0;32m   1497\u001b[0m \u001b[38;5;66;03m# this function, and just call forward.\u001b[39;00m\n\u001b[0;32m   1498\u001b[0m \u001b[38;5;28;01mif\u001b[39;00m \u001b[38;5;129;01mnot\u001b[39;00m (\u001b[38;5;28mself\u001b[39m\u001b[38;5;241m.\u001b[39m_backward_hooks \u001b[38;5;129;01mor\u001b[39;00m \u001b[38;5;28mself\u001b[39m\u001b[38;5;241m.\u001b[39m_backward_pre_hooks \u001b[38;5;129;01mor\u001b[39;00m \u001b[38;5;28mself\u001b[39m\u001b[38;5;241m.\u001b[39m_forward_hooks \u001b[38;5;129;01mor\u001b[39;00m \u001b[38;5;28mself\u001b[39m\u001b[38;5;241m.\u001b[39m_forward_pre_hooks\n\u001b[0;32m   1499\u001b[0m         \u001b[38;5;129;01mor\u001b[39;00m _global_backward_pre_hooks \u001b[38;5;129;01mor\u001b[39;00m _global_backward_hooks\n\u001b[0;32m   1500\u001b[0m         \u001b[38;5;129;01mor\u001b[39;00m _global_forward_hooks \u001b[38;5;129;01mor\u001b[39;00m _global_forward_pre_hooks):\n\u001b[1;32m-> 1501\u001b[0m     \u001b[38;5;28;01mreturn\u001b[39;00m forward_call(\u001b[38;5;241m*\u001b[39margs, \u001b[38;5;241m*\u001b[39m\u001b[38;5;241m*\u001b[39mkwargs)\n\u001b[0;32m   1502\u001b[0m \u001b[38;5;66;03m# Do not call functions when jit is used\u001b[39;00m\n\u001b[0;32m   1503\u001b[0m full_backward_hooks, non_full_backward_hooks \u001b[38;5;241m=\u001b[39m [], []\n",
      "File \u001b[1;32mD:\\Users\\marco\\anaconda3\\lib\\site-packages\\torch\\nn\\modules\\pooling.py:166\u001b[0m, in \u001b[0;36mMaxPool2d.forward\u001b[1;34m(self, input)\u001b[0m\n\u001b[0;32m    165\u001b[0m \u001b[38;5;28;01mdef\u001b[39;00m \u001b[38;5;21mforward\u001b[39m(\u001b[38;5;28mself\u001b[39m, \u001b[38;5;28minput\u001b[39m: Tensor):\n\u001b[1;32m--> 166\u001b[0m     \u001b[38;5;28;01mreturn\u001b[39;00m \u001b[43mF\u001b[49m\u001b[38;5;241;43m.\u001b[39;49m\u001b[43mmax_pool2d\u001b[49m\u001b[43m(\u001b[49m\u001b[38;5;28;43minput\u001b[39;49m\u001b[43m,\u001b[49m\u001b[43m \u001b[49m\u001b[38;5;28;43mself\u001b[39;49m\u001b[38;5;241;43m.\u001b[39;49m\u001b[43mkernel_size\u001b[49m\u001b[43m,\u001b[49m\u001b[43m \u001b[49m\u001b[38;5;28;43mself\u001b[39;49m\u001b[38;5;241;43m.\u001b[39;49m\u001b[43mstride\u001b[49m\u001b[43m,\u001b[49m\n\u001b[0;32m    167\u001b[0m \u001b[43m                        \u001b[49m\u001b[38;5;28;43mself\u001b[39;49m\u001b[38;5;241;43m.\u001b[39;49m\u001b[43mpadding\u001b[49m\u001b[43m,\u001b[49m\u001b[43m \u001b[49m\u001b[38;5;28;43mself\u001b[39;49m\u001b[38;5;241;43m.\u001b[39;49m\u001b[43mdilation\u001b[49m\u001b[43m,\u001b[49m\u001b[43m \u001b[49m\u001b[43mceil_mode\u001b[49m\u001b[38;5;241;43m=\u001b[39;49m\u001b[38;5;28;43mself\u001b[39;49m\u001b[38;5;241;43m.\u001b[39;49m\u001b[43mceil_mode\u001b[49m\u001b[43m,\u001b[49m\n\u001b[0;32m    168\u001b[0m \u001b[43m                        \u001b[49m\u001b[43mreturn_indices\u001b[49m\u001b[38;5;241;43m=\u001b[39;49m\u001b[38;5;28;43mself\u001b[39;49m\u001b[38;5;241;43m.\u001b[39;49m\u001b[43mreturn_indices\u001b[49m\u001b[43m)\u001b[49m\n",
      "File \u001b[1;32mD:\\Users\\marco\\anaconda3\\lib\\site-packages\\torch\\_jit_internal.py:484\u001b[0m, in \u001b[0;36mboolean_dispatch.<locals>.fn\u001b[1;34m(*args, **kwargs)\u001b[0m\n\u001b[0;32m    482\u001b[0m     \u001b[38;5;28;01mreturn\u001b[39;00m if_true(\u001b[38;5;241m*\u001b[39margs, \u001b[38;5;241m*\u001b[39m\u001b[38;5;241m*\u001b[39mkwargs)\n\u001b[0;32m    483\u001b[0m \u001b[38;5;28;01melse\u001b[39;00m:\n\u001b[1;32m--> 484\u001b[0m     \u001b[38;5;28;01mreturn\u001b[39;00m if_false(\u001b[38;5;241m*\u001b[39margs, \u001b[38;5;241m*\u001b[39m\u001b[38;5;241m*\u001b[39mkwargs)\n",
      "File \u001b[1;32mD:\\Users\\marco\\anaconda3\\lib\\site-packages\\torch\\nn\\functional.py:782\u001b[0m, in \u001b[0;36m_max_pool2d\u001b[1;34m(input, kernel_size, stride, padding, dilation, ceil_mode, return_indices)\u001b[0m\n\u001b[0;32m    780\u001b[0m \u001b[38;5;28;01mif\u001b[39;00m stride \u001b[38;5;129;01mis\u001b[39;00m \u001b[38;5;28;01mNone\u001b[39;00m:\n\u001b[0;32m    781\u001b[0m     stride \u001b[38;5;241m=\u001b[39m torch\u001b[38;5;241m.\u001b[39mjit\u001b[38;5;241m.\u001b[39mannotate(List[\u001b[38;5;28mint\u001b[39m], [])\n\u001b[1;32m--> 782\u001b[0m \u001b[38;5;28;01mreturn\u001b[39;00m \u001b[43mtorch\u001b[49m\u001b[38;5;241;43m.\u001b[39;49m\u001b[43mmax_pool2d\u001b[49m\u001b[43m(\u001b[49m\u001b[38;5;28;43minput\u001b[39;49m\u001b[43m,\u001b[49m\u001b[43m \u001b[49m\u001b[43mkernel_size\u001b[49m\u001b[43m,\u001b[49m\u001b[43m \u001b[49m\u001b[43mstride\u001b[49m\u001b[43m,\u001b[49m\u001b[43m \u001b[49m\u001b[43mpadding\u001b[49m\u001b[43m,\u001b[49m\u001b[43m \u001b[49m\u001b[43mdilation\u001b[49m\u001b[43m,\u001b[49m\u001b[43m \u001b[49m\u001b[43mceil_mode\u001b[49m\u001b[43m)\u001b[49m\n",
      "\u001b[1;31mKeyboardInterrupt\u001b[0m: "
     ]
    }
   ],
   "source": [
    "epochs = 1000\n",
    "\n",
    "losses = torch.zeros(epochs)\n",
    "test_losses = torch.zeros(epochs)\n",
    "\n",
    "bestNet = {\n",
    "    'loss': 10000,\n",
    "    'net': None\n",
    "}\n",
    "\n",
    "for epoch in range(epochs):\n",
    "\n",
    "  sys.stdout.write(f\"\\rDoing epoch number {epoch+1} of {epochs}, train loss: {losses[epoch-1] if epoch != 0 else 'Unknown'}, test loss: {test_losses[epoch-1] if epoch != 0 else 'Unknown'}, bestloss: {bestNet['loss']}\")\n",
    "  sys.stdout.flush()\n",
    "\n",
    "  batchLosses = []\n",
    "\n",
    "  for X, y in train_loader:\n",
    "\n",
    "    yHat = net(X)\n",
    "\n",
    "    loss = lossfun(yHat, y)\n",
    "    batchLosses.append(loss.item())\n",
    "\n",
    "    optimizer.zero_grad()\n",
    "    loss.backward()\n",
    "    optimizer.step()\n",
    "\n",
    "        \n",
    "  losses[epoch] = np.mean(batchLosses)\n",
    "  X,y = next(iter(test_loader))\n",
    "  with torch.no_grad():\n",
    "    yHat = net(X)\n",
    "  loss = lossfun(yHat, y)\n",
    "  test_losses[epoch] = float(loss)\n",
    "  if(float(loss) < bestNet['loss']):\n",
    "      bestNet['loss'] = float(loss)\n",
    "      bestNet['net'] = copy.deepcopy(net.state_dict())"
   ]
  },
  {
   "cell_type": "code",
   "execution_count": 100,
   "id": "4de38b2d",
   "metadata": {},
   "outputs": [],
   "source": [
    "bestModel = modelCreator()\n",
    "bestModel.load_state_dict(bestNet['net'])\n",
    "torch.save(bestModel.state_dict, 'trained_model.pt')"
   ]
  },
  {
   "cell_type": "markdown",
   "id": "d1ec69eb",
   "metadata": {},
   "source": [
    "### Evaluating the performance"
   ]
  },
  {
   "cell_type": "code",
   "execution_count": 101,
   "id": "9a6e9ac1",
   "metadata": {},
   "outputs": [],
   "source": [
    "import matplotlib.pyplot as plt"
   ]
  },
  {
   "cell_type": "code",
   "execution_count": 102,
   "id": "77cfa0df",
   "metadata": {},
   "outputs": [
    {
     "data": {
      "text/plain": [
       "Text(0.5, 1.0, 'Test Losses')"
      ]
     },
     "execution_count": 102,
     "metadata": {},
     "output_type": "execute_result"
    },
    {
     "data": {
      "image/png": "[encoded data removed]",
      "text/plain": [
       "<Figure size 1080x504 with 2 Axes>"
      ]
     },
     "metadata": {
      "needs_background": "light"
     },
     "output_type": "display_data"
    }
   ],
   "source": [
    "fig, axs = plt.subplots(1, 2, figsize=[15, 7])\n",
    "\n",
    "axs[0].plot(losses)\n",
    "axs[0].set_title('Train Losses')\n",
    "\n",
    "axs[0].plot(test_losses)\n",
    "axs[0].set_title('Test Losses')"
   ]
  },
  {
   "cell_type": "code",
   "execution_count": 103,
   "id": "8f3c2844",
   "metadata": {},
   "outputs": [
    {
     "name": "stdout",
     "output_type": "stream",
     "text": [
      "tensor(1.2555, grad_fn=<MseLossBackward0>)\n"
     ]
    }
   ],
   "source": [
    "X, y = next(iter(test_loader))\n",
    "yHat = bestModel(X)\n",
    "print(lossfun(yHat, y))"
   ]
  },
  {
   "cell_type": "markdown",
   "id": "f9705d28",
   "metadata": {},
   "source": [
    "## Creating the engine"
   ]
  },
  {
   "cell_type": "markdown",
   "id": "69cfa3ca",
   "metadata": {},
   "source": [
    "### Creating the minimax function"
   ]
  },
  {
   "cell_type": "code",
   "execution_count": 106,
   "id": "b236f0f5",
   "metadata": {},
   "outputs": [],
   "source": [
    "def minimax_eval(board):\n",
    "  board3d = get_board_array(board)\n",
    "  return net(torch.Tensor(board3d).view(1, 14, 8, 8))\n",
    "\n",
    "def minimax(board, depth, alpha, beta, maximizing_player):\n",
    "  if depth == 0 or board.is_game_over():\n",
    "    return minimax_eval(board)\n",
    "  \n",
    "  if maximizing_player:\n",
    "    max_eval = float('-inf')\n",
    "    for move in board.legal_moves:\n",
    "      board.push(move)\n",
    "      eval = minimax(board, depth - 1, alpha, beta, False)\n",
    "      board.pop()\n",
    "      max_eval = max(max_eval, eval)\n",
    "      if beta <= alpha:\n",
    "        break\n",
    "    return max_eval\n",
    "  else:\n",
    "    min_eval = float('inf')\n",
    "    for move in board.legal_moves:\n",
    "      board.push(move)\n",
    "      eval = minimax(board, depth-1, alpha, beta, True)\n",
    "      board.pop()\n",
    "      min_eval = min(min_eval, eval)\n",
    "      if beta <= alpha:\n",
    "        break\n",
    "    return min_eval\n",
    "  \n",
    "def get_ai_move(board, depth):\n",
    "  max_move = None\n",
    "  max_eval = float('-inf')\n",
    "  \n",
    "  for move in board.legal_moves:\n",
    "    board.push(move)\n",
    "    eval = minimax(board, depth - 1, float('-inf'), float('inf'), False)\n",
    "    board.pop()\n",
    "    if eval > max_eval:\n",
    "      max_eval = eval\n",
    "      max_move = move\n",
    "  return max_move"
   ]
  },
  {
   "cell_type": "code",
   "execution_count": 126,
   "id": "5bd6ad54",
   "metadata": {},
   "outputs": [
    {
     "name": "stdout",
     "output_type": "stream",
     "text": [
      "Ai: Nf3\n",
      "\n",
      "r n b q k b n r\n",
      "p p p p p p p p\n",
      ". . . . . . . .\n",
      ". . . . . . . .\n",
      ". . . . . . . .\n",
      ". . . . . N . .\n",
      "P P P P P P P P\n",
      "R N B Q K B . R\n",
      "\n",
      "Move:e6\n",
      "\n",
      "r n b q k b n r\n",
      "p p p p . p p p\n",
      ". . . . p . . .\n",
      ". . . . . . . .\n",
      ". . . . . . . .\n",
      ". . . . . N . .\n",
      "P P P P P P P P\n",
      "R N B Q K B . R\n",
      "\n",
      "-----------\n",
      "\n",
      "Ai: Na3\n",
      "\n",
      "r n b q k b n r\n",
      "p p p p . p p p\n",
      ". . . . p . . .\n",
      ". . . . . . . .\n",
      ". . . . . . . .\n",
      "N . . . . N . .\n",
      "P P P P P P P P\n",
      "R . B Q K B . R\n",
      "\n",
      "Move:Bxa3\n",
      "\n",
      "r n b q k . n r\n",
      "p p p p . p p p\n",
      ". . . . p . . .\n",
      ". . . . . . . .\n",
      ". . . . . . . .\n",
      "b . . . . N . .\n",
      "P P P P P P P P\n",
      "R . B Q K B . R\n",
      "\n",
      "-----------\n",
      "\n",
      "Ai: h3\n",
      "\n",
      "r n b q k . n r\n",
      "p p p p . p p p\n",
      ". . . . p . . .\n",
      ". . . . . . . .\n",
      ". . . . . . . .\n",
      "b . . . . N . P\n",
      "P P P P P P P .\n",
      "R . B Q K B . R\n",
      "\n",
      "Move:c6\n",
      "\n",
      "r n b q k . n r\n",
      "p p . p . p p p\n",
      ". . p . p . . .\n",
      ". . . . . . . .\n",
      ". . . . . . . .\n",
      "b . . . . N . P\n",
      "P P P P P P P .\n",
      "R . B Q K B . R\n",
      "\n",
      "-----------\n",
      "\n",
      "Ai: g4\n",
      "\n",
      "r n b q k . n r\n",
      "p p . p . p p p\n",
      ". . p . p . . .\n",
      ". . . . . . . .\n",
      ". . . . . . P .\n",
      "b . . . . N . P\n",
      "P P P P P P . .\n",
      "R . B Q K B . R\n",
      "\n"
     ]
    },
    {
     "ename": "KeyboardInterrupt",
     "evalue": "Interrupted by user",
     "output_type": "error",
     "traceback": [
      "\u001b[1;31m---------------------------------------------------------------------------\u001b[0m",
      "\u001b[1;31mKeyboardInterrupt\u001b[0m                         Traceback (most recent call last)",
      "Input \u001b[1;32mIn [126]\u001b[0m, in \u001b[0;36m<cell line: 5>\u001b[1;34m()\u001b[0m\n\u001b[0;32m      9\u001b[0m board\u001b[38;5;241m.\u001b[39mpush(aimove)\n\u001b[0;32m     11\u001b[0m \u001b[38;5;28mprint\u001b[39m(\u001b[38;5;28mstr\u001b[39m(board) \u001b[38;5;241m+\u001b[39m \u001b[38;5;124m'\u001b[39m\u001b[38;5;130;01m\\n\u001b[39;00m\u001b[38;5;124m'\u001b[39m)\n\u001b[1;32m---> 13\u001b[0m move \u001b[38;5;241m=\u001b[39m \u001b[38;5;28;43minput\u001b[39;49m\u001b[43m(\u001b[49m\u001b[38;5;124;43m'\u001b[39;49m\u001b[38;5;124;43mMove:\u001b[39;49m\u001b[38;5;124;43m'\u001b[39;49m\u001b[43m)\u001b[49m\n\u001b[0;32m     14\u001b[0m board\u001b[38;5;241m.\u001b[39mpush_san(move)\n\u001b[0;32m     16\u001b[0m \u001b[38;5;28mprint\u001b[39m(\u001b[38;5;124m'\u001b[39m\u001b[38;5;130;01m\\n\u001b[39;00m\u001b[38;5;124m'\u001b[39m \u001b[38;5;241m+\u001b[39m \u001b[38;5;28mstr\u001b[39m(board) \u001b[38;5;241m+\u001b[39m \u001b[38;5;124m'\u001b[39m\u001b[38;5;130;01m\\n\u001b[39;00m\u001b[38;5;124m'\u001b[39m)\n",
      "File \u001b[1;32mD:\\Users\\marco\\anaconda3\\lib\\site-packages\\ipykernel\\kernelbase.py:1075\u001b[0m, in \u001b[0;36mKernel.raw_input\u001b[1;34m(self, prompt)\u001b[0m\n\u001b[0;32m   1071\u001b[0m \u001b[38;5;28;01mif\u001b[39;00m \u001b[38;5;129;01mnot\u001b[39;00m \u001b[38;5;28mself\u001b[39m\u001b[38;5;241m.\u001b[39m_allow_stdin:\n\u001b[0;32m   1072\u001b[0m     \u001b[38;5;28;01mraise\u001b[39;00m StdinNotImplementedError(\n\u001b[0;32m   1073\u001b[0m         \u001b[38;5;124m\"\u001b[39m\u001b[38;5;124mraw_input was called, but this frontend does not support input requests.\u001b[39m\u001b[38;5;124m\"\u001b[39m\n\u001b[0;32m   1074\u001b[0m     )\n\u001b[1;32m-> 1075\u001b[0m \u001b[38;5;28;01mreturn\u001b[39;00m \u001b[38;5;28;43mself\u001b[39;49m\u001b[38;5;241;43m.\u001b[39;49m\u001b[43m_input_request\u001b[49m\u001b[43m(\u001b[49m\n\u001b[0;32m   1076\u001b[0m \u001b[43m    \u001b[49m\u001b[38;5;28;43mstr\u001b[39;49m\u001b[43m(\u001b[49m\u001b[43mprompt\u001b[49m\u001b[43m)\u001b[49m\u001b[43m,\u001b[49m\n\u001b[0;32m   1077\u001b[0m \u001b[43m    \u001b[49m\u001b[38;5;28;43mself\u001b[39;49m\u001b[38;5;241;43m.\u001b[39;49m\u001b[43m_parent_ident\u001b[49m\u001b[43m[\u001b[49m\u001b[38;5;124;43m\"\u001b[39;49m\u001b[38;5;124;43mshell\u001b[39;49m\u001b[38;5;124;43m\"\u001b[39;49m\u001b[43m]\u001b[49m\u001b[43m,\u001b[49m\n\u001b[0;32m   1078\u001b[0m \u001b[43m    \u001b[49m\u001b[38;5;28;43mself\u001b[39;49m\u001b[38;5;241;43m.\u001b[39;49m\u001b[43mget_parent\u001b[49m\u001b[43m(\u001b[49m\u001b[38;5;124;43m\"\u001b[39;49m\u001b[38;5;124;43mshell\u001b[39;49m\u001b[38;5;124;43m\"\u001b[39;49m\u001b[43m)\u001b[49m\u001b[43m,\u001b[49m\n\u001b[0;32m   1079\u001b[0m \u001b[43m    \u001b[49m\u001b[43mpassword\u001b[49m\u001b[38;5;241;43m=\u001b[39;49m\u001b[38;5;28;43;01mFalse\u001b[39;49;00m\u001b[43m,\u001b[49m\n\u001b[0;32m   1080\u001b[0m \u001b[43m\u001b[49m\u001b[43m)\u001b[49m\n",
      "File \u001b[1;32mD:\\Users\\marco\\anaconda3\\lib\\site-packages\\ipykernel\\kernelbase.py:1120\u001b[0m, in \u001b[0;36mKernel._input_request\u001b[1;34m(self, prompt, ident, parent, password)\u001b[0m\n\u001b[0;32m   1117\u001b[0m             \u001b[38;5;28;01mbreak\u001b[39;00m\n\u001b[0;32m   1118\u001b[0m \u001b[38;5;28;01mexcept\u001b[39;00m \u001b[38;5;167;01mKeyboardInterrupt\u001b[39;00m:\n\u001b[0;32m   1119\u001b[0m     \u001b[38;5;66;03m# re-raise KeyboardInterrupt, to truncate traceback\u001b[39;00m\n\u001b[1;32m-> 1120\u001b[0m     \u001b[38;5;28;01mraise\u001b[39;00m \u001b[38;5;167;01mKeyboardInterrupt\u001b[39;00m(\u001b[38;5;124m\"\u001b[39m\u001b[38;5;124mInterrupted by user\u001b[39m\u001b[38;5;124m\"\u001b[39m) \u001b[38;5;28;01mfrom\u001b[39;00m \u001b[38;5;28mNone\u001b[39m\n\u001b[0;32m   1121\u001b[0m \u001b[38;5;28;01mexcept\u001b[39;00m \u001b[38;5;167;01mException\u001b[39;00m:\n\u001b[0;32m   1122\u001b[0m     \u001b[38;5;28mself\u001b[39m\u001b[38;5;241m.\u001b[39mlog\u001b[38;5;241m.\u001b[39mwarning(\u001b[38;5;124m\"\u001b[39m\u001b[38;5;124mInvalid Message:\u001b[39m\u001b[38;5;124m\"\u001b[39m, exc_info\u001b[38;5;241m=\u001b[39m\u001b[38;5;28;01mTrue\u001b[39;00m)\n",
      "\u001b[1;31mKeyboardInterrupt\u001b[0m: Interrupted by user"
     ]
    }
   ],
   "source": [
    "board = chess.Board()\n",
    "\n",
    "  \n",
    "while True:\n",
    "  if(player == 'W'):\n",
    "    aimove = get_ai_move(board, 1)\n",
    "    print(f'Ai: {board.san(aimove)}\\n')\n",
    "    \n",
    "    board.push(aimove)\n",
    "      \n",
    "    print(str(board) + '\\n')\n",
    "    \n",
    "    move = input('Move:')\n",
    "    board.push_san(move)\n",
    "    \n",
    "    print('\\n' + str(board) + '\\n')\n",
    "    \n",
    "    print('-----------\\n')\n",
    "    \n",
    "    if board.is_game_over():\n",
    "      break\n",
    "    \n",
    "board"
   ]
  },
  {
   "cell_type": "code",
   "execution_count": null,
   "id": "62335faa",
   "metadata": {},
   "outputs": [],
   "source": []
  },
  {
   "cell_type": "markdown",
   "id": "a6b98671",
   "metadata": {},
   "source": [
    "## Doing a real match"
   ]
  },
  {
   "cell_type": "code",
   "execution_count": null,
   "id": "1dc57142",
   "metadata": {},
   "outputs": [],
   "source": [
    "# Crea una scacchiera\n",
    "board = chess.Board()\n",
    "\n",
    "# Esegui una mossa\n",
    "move = chess.Move.from_uci(\"e2e4\")\n",
    "board.push(move)\n",
    "\n",
    "# Ottieni la lista di posizioni valide per la prossima mossa\n",
    "valid_moves = [str(move) for move in board.generate_legal_moves()]\n",
    "print(valid_moves)"
   ]
  },
  {
   "cell_type": "code",
   "execution_count": null,
   "id": "37a11800",
   "metadata": {},
   "outputs": [],
   "source": [
    "board = chess.Board()\n",
    "\n",
    "board.push_san(None)\n",
    "\n",
    "board"
   ]
  },
  {
   "cell_type": "code",
   "execution_count": null,
   "id": "f6b2f86f",
   "metadata": {},
   "outputs": [],
   "source": []
  }
 ],
 "metadata": {
  "kernelspec": {
   "display_name": "Python 3 (ipykernel)",
   "language": "python",
   "name": "python3"
  },
  "language_info": {
   "codemirror_mode": {
    "name": "ipython",
    "version": 3
   },
   "file_extension": ".py",
   "mimetype": "text/x-python",
   "name": "python",
   "nbconvert_exporter": "python",
   "pygments_lexer": "ipython3",
   "version": "3.9.12"
  }
 },
 "nbformat": 4,
 "nbformat_minor": 5
}
